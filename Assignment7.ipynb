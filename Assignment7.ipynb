{
 "cells": [
  {
   "cell_type": "code",
   "execution_count": 1,
   "id": "e0942192-2e99-4330-a2d7-324cc7e8e259",
   "metadata": {},
   "outputs": [],
   "source": [
    "# Sure, let's break down each step:\n",
    "\n",
    "# ### 1. Document Preprocessing:\n",
    "\n",
    "# #### a. Tokenization:\n",
    "# Tokenization involves breaking down the text into individual words or tokens.\n",
    "\n",
    "# #### b. POS Tagging:\n",
    "# POS (Part-of-Speech) tagging involves labeling each word in the text with its corresponding part of speech, such as noun, verb, adjective, etc.\n",
    "\n",
    "# #### c. Stop Words Removal:\n",
    "# Stop words are common words like \"the\", \"is\", \"and\", etc., which often do not contribute much to the meaning of the text. Removing them helps in focusing on the more important words.\n",
    "\n",
    "# #### d. Stemming:\n",
    "# Stemming involves reducing words to their root or base form, by removing suffixes. For example, \"running\" becomes \"run\".\n",
    "\n",
    "# #### e. Lemmatization:\n",
    "# Lemmatization is similar to stemming but it reduces words to their base or dictionary form (lemma), which makes it more accurate but computationally expensive.\n",
    "\n",
    "# ### 2. Calculating TF-IDF (Term Frequency-Inverse Document Frequency):\n",
    "\n",
    "# #### Term Frequency (TF):\n",
    "# TF measures how frequently a term occurs in a document. It's calculated as the number of times a term appears in a document divided by the total number of terms in the document.\n",
    "\n",
    "# #### Inverse Document Frequency (IDF):\n",
    "# IDF measures how important a term is in a collection of documents. It's calculated as the logarithm of the total number of documents divided by the number of documents containing the term.\n",
    "\n",
    "# #### TF-IDF:\n",
    "# TF-IDF is the product of TF and IDF, and it indicates the importance of a term in a specific document relative to its importance across all documents.\n",
    "\n",
    "# Here's a step-by-step approach to implement these tasks:\n",
    "\n",
    "# 1. Load or extract a sample document.\n",
    "# 2. Tokenize the document.\n",
    "# 3. Perform POS tagging on the tokens.\n",
    "# 4. Remove stop words.\n",
    "# 5. Apply stemming or lemmatization.\n",
    "# 6. Calculate TF for each term in the document.\n",
    "# 7. Calculate IDF for each term across the document collection.\n",
    "# 8. Calculate TF-IDF for each term in the document.\n",
    "# 9. Optionally, create a representation of the document using the TF-IDF values.\n",
    "\n",
    "# If you need further guidance or assistance with the implementation, feel free to ask!"
   ]
  },
  {
   "cell_type": "code",
   "execution_count": 3,
   "id": "6ae8c1dc-ce35-4fe0-b3c9-d7b3ab81170c",
   "metadata": {},
   "outputs": [
    {
     "name": "stdout",
     "output_type": "stream",
     "text": [
      "Collecting nltk\n",
      "  Downloading nltk-3.8.1-py3-none-any.whl.metadata (2.8 kB)\n",
      "Collecting click (from nltk)\n",
      "  Downloading click-8.1.7-py3-none-any.whl.metadata (3.0 kB)\n",
      "Requirement already satisfied: joblib in c:\\users\\msi\\appdata\\local\\programs\\python\\python312\\lib\\site-packages (from nltk) (1.3.2)\n",
      "Collecting regex>=2021.8.3 (from nltk)\n",
      "  Downloading regex-2024.4.28-cp312-cp312-win_amd64.whl.metadata (41 kB)\n",
      "     ---------------------------------------- 0.0/41.9 kB ? eta -:--:--\n",
      "     ---------------------------------------- 0.0/41.9 kB ? eta -:--:--\n",
      "     --------- ------------------------------ 10.2/41.9 kB ? eta -:--:--\n",
      "     ------------------ ------------------- 20.5/41.9 kB 330.3 kB/s eta 0:00:01\n",
      "     -------------------------------------  41.0/41.9 kB 281.8 kB/s eta 0:00:01\n",
      "     -------------------------------------- 41.9/41.9 kB 253.4 kB/s eta 0:00:00\n",
      "Collecting tqdm (from nltk)\n",
      "  Downloading tqdm-4.66.4-py3-none-any.whl.metadata (57 kB)\n",
      "     ---------------------------------------- 0.0/57.6 kB ? eta -:--:--\n",
      "     -------------------- ----------------- 30.7/57.6 kB 640.0 kB/s eta 0:00:01\n",
      "     -------------------------------------- 57.6/57.6 kB 751.0 kB/s eta 0:00:00\n",
      "Requirement already satisfied: colorama in c:\\users\\msi\\appdata\\local\\programs\\python\\python312\\lib\\site-packages (from click->nltk) (0.4.6)\n",
      "Downloading nltk-3.8.1-py3-none-any.whl (1.5 MB)\n",
      "   ---------------------------------------- 0.0/1.5 MB ? eta -:--:--\n",
      "   -- ------------------------------------- 0.1/1.5 MB 4.5 MB/s eta 0:00:01\n",
      "   ----- ---------------------------------- 0.2/1.5 MB 2.4 MB/s eta 0:00:01\n",
      "   -------- ------------------------------- 0.3/1.5 MB 2.5 MB/s eta 0:00:01\n",
      "   --------- ------------------------------ 0.4/1.5 MB 2.9 MB/s eta 0:00:01\n",
      "   ----------- ---------------------------- 0.5/1.5 MB 2.2 MB/s eta 0:00:01\n",
      "   --------------- ------------------------ 0.6/1.5 MB 2.1 MB/s eta 0:00:01\n",
      "   ---------------- ----------------------- 0.6/1.5 MB 2.3 MB/s eta 0:00:01\n",
      "   ----------------- ---------------------- 0.7/1.5 MB 1.9 MB/s eta 0:00:01\n",
      "   --------------------- ------------------ 0.8/1.5 MB 2.1 MB/s eta 0:00:01\n",
      "   ---------------------- ----------------- 0.8/1.5 MB 2.0 MB/s eta 0:00:01\n",
      "   ------------------------- -------------- 1.0/1.5 MB 1.9 MB/s eta 0:00:01\n",
      "   ----------------------------- ---------- 1.1/1.5 MB 2.0 MB/s eta 0:00:01\n",
      "   ------------------------------ --------- 1.1/1.5 MB 2.0 MB/s eta 0:00:01\n",
      "   ------------------------------ --------- 1.1/1.5 MB 2.0 MB/s eta 0:00:01\n",
      "   ------------------------------- -------- 1.2/1.5 MB 1.8 MB/s eta 0:00:01\n",
      "   ----------------------------------- ---- 1.4/1.5 MB 1.8 MB/s eta 0:00:01\n",
      "   ------------------------------------- -- 1.4/1.5 MB 1.8 MB/s eta 0:00:01\n",
      "   ---------------------------------------  1.5/1.5 MB 1.8 MB/s eta 0:00:01\n",
      "   ---------------------------------------- 1.5/1.5 MB 1.8 MB/s eta 0:00:00\n",
      "Downloading regex-2024.4.28-cp312-cp312-win_amd64.whl (268 kB)\n",
      "   ---------------------------------------- 0.0/268.5 kB ? eta -:--:--\n",
      "   ---------- ----------------------------- 71.7/268.5 kB 2.0 MB/s eta 0:00:01\n",
      "   --------------------------------- ------ 225.3/268.5 kB 2.8 MB/s eta 0:00:01\n",
      "   ---------------------------------------- 268.5/268.5 kB 2.3 MB/s eta 0:00:00\n",
      "Downloading click-8.1.7-py3-none-any.whl (97 kB)\n",
      "   ---------------------------------------- 0.0/97.9 kB ? eta -:--:--\n",
      "   ---------------------------------------- 97.9/97.9 kB 1.9 MB/s eta 0:00:00\n",
      "Downloading tqdm-4.66.4-py3-none-any.whl (78 kB)\n",
      "   ---------------------------------------- 0.0/78.3 kB ? eta -:--:--\n",
      "   ---------------------------------------- 78.3/78.3 kB 4.3 MB/s eta 0:00:00\n",
      "Installing collected packages: tqdm, regex, click, nltk\n",
      "Successfully installed click-8.1.7 nltk-3.8.1 regex-2024.4.28 tqdm-4.66.4\n",
      "Note: you may need to restart the kernel to use updated packages.\n"
     ]
    },
    {
     "name": "stderr",
     "output_type": "stream",
     "text": [
      "\n",
      "[notice] A new release of pip is available: 23.3.2 -> 24.0\n",
      "[notice] To update, run: python.exe -m pip install --upgrade pip\n"
     ]
    }
   ],
   "source": [
    "pip install nltk"
   ]
  },
  {
   "cell_type": "code",
   "execution_count": 7,
   "id": "0577f481-c81d-4208-b001-5c425eadc02e",
   "metadata": {},
   "outputs": [
    {
     "name": "stderr",
     "output_type": "stream",
     "text": [
      "[nltk_data] Downloading package punkt to\n",
      "[nltk_data]     C:\\Users\\msi\\AppData\\Roaming\\nltk_data...\n",
      "[nltk_data]   Unzipping tokenizers\\punkt.zip.\n"
     ]
    },
    {
     "data": {
      "text/plain": [
       "True"
      ]
     },
     "execution_count": 7,
     "metadata": {},
     "output_type": "execute_result"
    }
   ],
   "source": [
    "import nltk\n",
    "nltk.download('punkt')"
   ]
  },
  {
   "cell_type": "code",
   "execution_count": 10,
   "id": "ffce721c-81e5-4677-b153-76252f698981",
   "metadata": {},
   "outputs": [
    {
     "name": "stderr",
     "output_type": "stream",
     "text": [
      "[nltk_data] Downloading package averaged_perceptron_tagger to\n",
      "[nltk_data]     C:\\Users\\msi\\AppData\\Roaming\\nltk_data...\n",
      "[nltk_data]   Unzipping taggers\\averaged_perceptron_tagger.zip.\n"
     ]
    },
    {
     "data": {
      "text/plain": [
       "True"
      ]
     },
     "execution_count": 10,
     "metadata": {},
     "output_type": "execute_result"
    }
   ],
   "source": [
    "import nltk\n",
    "nltk.download('averaged_perceptron_tagger')\n"
   ]
  },
  {
   "cell_type": "code",
   "execution_count": 12,
   "id": "fe6612f0-4820-4fb0-ac59-3a2d8a0d00df",
   "metadata": {},
   "outputs": [
    {
     "name": "stderr",
     "output_type": "stream",
     "text": [
      "[nltk_data] Downloading package stopwords to\n",
      "[nltk_data]     C:\\Users\\msi\\AppData\\Roaming\\nltk_data...\n",
      "[nltk_data]   Unzipping corpora\\stopwords.zip.\n"
     ]
    },
    {
     "data": {
      "text/plain": [
       "True"
      ]
     },
     "execution_count": 12,
     "metadata": {},
     "output_type": "execute_result"
    }
   ],
   "source": [
    "import nltk\n",
    "nltk.download('stopwords')\n"
   ]
  },
  {
   "cell_type": "code",
   "execution_count": 14,
   "id": "82226cfe-7142-480e-a357-a56fc17055c2",
   "metadata": {},
   "outputs": [
    {
     "name": "stderr",
     "output_type": "stream",
     "text": [
      "[nltk_data] Downloading package wordnet to\n",
      "[nltk_data]     C:\\Users\\msi\\AppData\\Roaming\\nltk_data...\n"
     ]
    },
    {
     "data": {
      "text/plain": [
       "True"
      ]
     },
     "execution_count": 14,
     "metadata": {},
     "output_type": "execute_result"
    }
   ],
   "source": [
    "import nltk\n",
    "nltk.download('wordnet')\n"
   ]
  },
  {
   "cell_type": "code",
   "execution_count": 1,
   "id": "ed256e22-15a9-4e20-b8a2-49a6805107da",
   "metadata": {},
   "outputs": [
    {
     "name": "stdout",
     "output_type": "stream",
     "text": [
      "Original Tokens:\n",
      "['Natural', 'language', 'processing', '(', 'NLP', ')', 'is', 'a', 'field', 'of', 'artificial', 'intelligence', '(', 'AI', ')', 'that', 'focuses', 'on', 'the', 'interaction', 'between', 'computers', 'and', 'humans', 'through', 'natural', 'language', '.', 'The', 'ultimate', 'objective', 'of', 'NLP', 'is', 'to', 'enable', 'computers', 'to', 'understand', ',', 'interpret', ',', 'and', 'generate', 'human', 'languages', 'in', 'a', 'way', 'that', 'is', 'both', 'meaningful', 'and', 'useful', '.', 'NLP', 'encompasses', 'a', 'variety', 'of', 'tasks', ',', 'including', 'text', 'analysis', ',', 'sentiment', 'analysis', ',', 'machine', 'translation', ',', 'and', 'more', '.', 'In', 'this', 'tutorial', ',', 'we', 'will', 'explore', 'some', 'common', 'preprocessing', 'techniques', 'used', 'in', 'NLP', ',', 'such', 'as', 'tokenization', ',', 'POS', 'tagging', ',', 'stop', 'words', 'removal', ',', 'stemming', ',', 'and', 'lemmatization', '.']\n",
      "\n",
      "POS Tagging:\n",
      "[('Natural', 'JJ'), ('language', 'NN'), ('processing', 'NN'), ('(', '('), ('NLP', 'NNP'), (')', ')'), ('is', 'VBZ'), ('a', 'DT'), ('field', 'NN'), ('of', 'IN'), ('artificial', 'JJ'), ('intelligence', 'NN'), ('(', '('), ('AI', 'NNP'), (')', ')'), ('that', 'WDT'), ('focuses', 'VBZ'), ('on', 'IN'), ('the', 'DT'), ('interaction', 'NN'), ('between', 'IN'), ('computers', 'NNS'), ('and', 'CC'), ('humans', 'NNS'), ('through', 'IN'), ('natural', 'JJ'), ('language', 'NN'), ('.', '.'), ('The', 'DT'), ('ultimate', 'JJ'), ('objective', 'NN'), ('of', 'IN'), ('NLP', 'NNP'), ('is', 'VBZ'), ('to', 'TO'), ('enable', 'JJ'), ('computers', 'NNS'), ('to', 'TO'), ('understand', 'VB'), (',', ','), ('interpret', 'VB'), (',', ','), ('and', 'CC'), ('generate', 'VB'), ('human', 'JJ'), ('languages', 'NNS'), ('in', 'IN'), ('a', 'DT'), ('way', 'NN'), ('that', 'WDT'), ('is', 'VBZ'), ('both', 'DT'), ('meaningful', 'JJ'), ('and', 'CC'), ('useful', 'JJ'), ('.', '.'), ('NLP', 'NNP'), ('encompasses', 'VBZ'), ('a', 'DT'), ('variety', 'NN'), ('of', 'IN'), ('tasks', 'NNS'), (',', ','), ('including', 'VBG'), ('text', 'JJ'), ('analysis', 'NN'), (',', ','), ('sentiment', 'NN'), ('analysis', 'NN'), (',', ','), ('machine', 'NN'), ('translation', 'NN'), (',', ','), ('and', 'CC'), ('more', 'JJR'), ('.', '.'), ('In', 'IN'), ('this', 'DT'), ('tutorial', 'JJ'), (',', ','), ('we', 'PRP'), ('will', 'MD'), ('explore', 'VB'), ('some', 'DT'), ('common', 'JJ'), ('preprocessing', 'NN'), ('techniques', 'NNS'), ('used', 'VBN'), ('in', 'IN'), ('NLP', 'NNP'), (',', ','), ('such', 'JJ'), ('as', 'IN'), ('tokenization', 'NN'), (',', ','), ('POS', 'NNP'), ('tagging', 'NN'), (',', ','), ('stop', 'VB'), ('words', 'NNS'), ('removal', 'JJ'), (',', ','), ('stemming', 'VBG'), (',', ','), ('and', 'CC'), ('lemmatization', 'NN'), ('.', '.')]\n",
      "\n",
      "Filtered Tokens after Stop words removal:\n",
      "['Natural', 'language', 'processing', '(', 'NLP', ')', 'field', 'artificial', 'intelligence', '(', 'AI', ')', 'focuses', 'interaction', 'computers', 'humans', 'natural', 'language', '.', 'ultimate', 'objective', 'NLP', 'enable', 'computers', 'understand', ',', 'interpret', ',', 'generate', 'human', 'languages', 'way', 'meaningful', 'useful', '.', 'NLP', 'encompasses', 'variety', 'tasks', ',', 'including', 'text', 'analysis', ',', 'sentiment', 'analysis', ',', 'machine', 'translation', ',', '.', 'tutorial', ',', 'explore', 'common', 'preprocessing', 'techniques', 'used', 'NLP', ',', 'tokenization', ',', 'POS', 'tagging', ',', 'stop', 'words', 'removal', ',', 'stemming', ',', 'lemmatization', '.']\n",
      "\n",
      "Stemmed Tokens:\n",
      "['natur', 'languag', 'process', '(', 'nlp', ')', 'field', 'artifici', 'intellig', '(', 'ai', ')', 'focus', 'interact', 'comput', 'human', 'natur', 'languag', '.', 'ultim', 'object', 'nlp', 'enabl', 'comput', 'understand', ',', 'interpret', ',', 'gener', 'human', 'languag', 'way', 'meaning', 'use', '.', 'nlp', 'encompass', 'varieti', 'task', ',', 'includ', 'text', 'analysi', ',', 'sentiment', 'analysi', ',', 'machin', 'translat', ',', '.', 'tutori', ',', 'explor', 'common', 'preprocess', 'techniqu', 'use', 'nlp', ',', 'token', ',', 'po', 'tag', ',', 'stop', 'word', 'remov', ',', 'stem', ',', 'lemmat', '.']\n",
      "\n",
      "Lemmatized Tokens:\n",
      "['Natural', 'language', 'processing', '(', 'NLP', ')', 'field', 'artificial', 'intelligence', '(', 'AI', ')', 'focus', 'interaction', 'computer', 'human', 'natural', 'language', '.', 'ultimate', 'objective', 'NLP', 'enable', 'computer', 'understand', ',', 'interpret', ',', 'generate', 'human', 'language', 'way', 'meaningful', 'useful', '.', 'NLP', 'encompasses', 'variety', 'task', ',', 'including', 'text', 'analysis', ',', 'sentiment', 'analysis', ',', 'machine', 'translation', ',', '.', 'tutorial', ',', 'explore', 'common', 'preprocessing', 'technique', 'used', 'NLP', ',', 'tokenization', ',', 'POS', 'tagging', ',', 'stop', 'word', 'removal', ',', 'stemming', ',', 'lemmatization', '.']\n",
      "\n",
      "TF-IDF Matrix:\n",
      "[[0.08219949 0.16439899 0.41099747 0.08219949 0.08219949 0.08219949\n",
      "  0.08219949 0.08219949 0.16439899 0.08219949 0.08219949 0.08219949\n",
      "  0.08219949 0.08219949 0.08219949 0.08219949 0.08219949 0.24659848\n",
      "  0.08219949 0.08219949 0.08219949 0.08219949 0.24659848 0.16439899\n",
      "  0.08219949 0.08219949 0.08219949 0.08219949 0.08219949 0.16439899\n",
      "  0.32879797 0.08219949 0.24659848 0.08219949 0.08219949 0.08219949\n",
      "  0.08219949 0.08219949 0.08219949 0.08219949 0.08219949 0.08219949\n",
      "  0.08219949 0.08219949 0.08219949 0.08219949 0.08219949 0.16439899\n",
      "  0.16439899 0.08219949 0.08219949 0.16439899 0.08219949 0.08219949\n",
      "  0.08219949 0.08219949 0.08219949 0.08219949 0.08219949 0.08219949\n",
      "  0.08219949 0.08219949 0.08219949 0.08219949]]\n"
     ]
    }
   ],
   "source": [
    "import nltk\n",
    "from nltk.tokenize import word_tokenize\n",
    "from nltk.corpus import stopwords\n",
    "from nltk.stem import PorterStemmer, WordNetLemmatizer\n",
    "from nltk import pos_tag\n",
    "from sklearn.feature_extraction.text import TfidfVectorizer\n",
    "\n",
    "# Sample Document\n",
    "sample_document = \"\"\"\n",
    "Natural language processing (NLP) is a field of artificial intelligence (AI) that focuses on the interaction between computers and humans through natural language. The ultimate objective of NLP is to enable computers to understand, interpret, and generate human languages in a way that is both meaningful and useful. NLP encompasses a variety of tasks, including text analysis, sentiment analysis, machine translation, and more. In this tutorial, we will explore some common preprocessing techniques used in NLP, such as tokenization, POS tagging, stop words removal, stemming, and lemmatization.\n",
    "\"\"\"\n",
    "\n",
    "# Tokenization\n",
    "tokens = word_tokenize(sample_document)\n",
    "\n",
    "# POS Tagging\n",
    "pos_tags = pos_tag(tokens)\n",
    "\n",
    "# Stop words removal\n",
    "stop_words = set(stopwords.words('english'))\n",
    "filtered_tokens = [word for word in tokens if word.lower() not in stop_words]\n",
    "\n",
    "# Stemming\n",
    "stemmer = PorterStemmer()\n",
    "stemmed_tokens = [stemmer.stem(word) for word in filtered_tokens]\n",
    "\n",
    "# Lemmatization\n",
    "lemmatizer = WordNetLemmatizer()\n",
    "lemmatized_tokens = [lemmatizer.lemmatize(word) for word in filtered_tokens]\n",
    "\n",
    "# Print Results\n",
    "print(\"Original Tokens:\")\n",
    "print(tokens)\n",
    "print(\"\\nPOS Tagging:\")\n",
    "print(pos_tags)\n",
    "print(\"\\nFiltered Tokens after Stop words removal:\")\n",
    "print(filtered_tokens)\n",
    "print(\"\\nStemmed Tokens:\")\n",
    "print(stemmed_tokens)\n",
    "print(\"\\nLemmatized Tokens:\")\n",
    "print(lemmatized_tokens)\n",
    "\n",
    "# TF-IDF Representation\n",
    "tfidf_vectorizer = TfidfVectorizer()\n",
    "tfidf_matrix = tfidf_vectorizer.fit_transform([sample_document])\n",
    "\n",
    "# Print TF-IDF Matrix\n",
    "print(\"\\nTF-IDF Matrix:\")\n",
    "print(tfidf_matrix.toarray())\n"
   ]
  },
  {
   "cell_type": "code",
   "execution_count": 5,
   "id": "778bfb7d-6ebc-4ef3-9a89-a3e8be21ab79",
   "metadata": {},
   "outputs": [
    {
     "name": "stdout",
     "output_type": "stream",
     "text": [
      "Requirement already satisfied: jupyter_contrib_nbextensions in c:\\users\\msi\\appdata\\local\\programs\\python\\python312\\lib\\site-packages (0.7.0)\n",
      "Requirement already satisfied: ipython-genutils in c:\\users\\msi\\appdata\\local\\programs\\python\\python312\\lib\\site-packages (from jupyter_contrib_nbextensions) (0.2.0)\n",
      "Requirement already satisfied: jupyter-contrib-core>=0.3.3 in c:\\users\\msi\\appdata\\local\\programs\\python\\python312\\lib\\site-packages (from jupyter_contrib_nbextensions) (0.4.2)\n",
      "Requirement already satisfied: jupyter-core in c:\\users\\msi\\appdata\\local\\programs\\python\\python312\\lib\\site-packages (from jupyter_contrib_nbextensions) (5.7.1)\n",
      "Requirement already satisfied: jupyter-highlight-selected-word>=0.1.1 in c:\\users\\msi\\appdata\\local\\programs\\python\\python312\\lib\\site-packages (from jupyter_contrib_nbextensions) (0.2.0)\n",
      "Requirement already satisfied: jupyter-nbextensions-configurator>=0.4.0 in c:\\users\\msi\\appdata\\local\\programs\\python\\python312\\lib\\site-packages (from jupyter_contrib_nbextensions) (0.6.3)\n",
      "Requirement already satisfied: nbconvert>=6.0 in c:\\users\\msi\\appdata\\local\\programs\\python\\python312\\lib\\site-packages (from jupyter_contrib_nbextensions) (7.14.1)\n",
      "Requirement already satisfied: notebook>=6.0 in c:\\users\\msi\\appdata\\local\\programs\\python\\python312\\lib\\site-packages (from jupyter_contrib_nbextensions) (7.0.6)\n",
      "Requirement already satisfied: tornado in c:\\users\\msi\\appdata\\local\\programs\\python\\python312\\lib\\site-packages (from jupyter_contrib_nbextensions) (6.4)\n",
      "Requirement already satisfied: traitlets>=4.1 in c:\\users\\msi\\appdata\\local\\programs\\python\\python312\\lib\\site-packages (from jupyter_contrib_nbextensions) (5.14.1)\n",
      "Requirement already satisfied: lxml in c:\\users\\msi\\appdata\\local\\programs\\python\\python312\\lib\\site-packages (from jupyter_contrib_nbextensions) (5.2.1)\n",
      "Requirement already satisfied: setuptools in c:\\users\\msi\\appdata\\local\\programs\\python\\python312\\lib\\site-packages (from jupyter-contrib-core>=0.3.3->jupyter_contrib_nbextensions) (69.5.1)\n",
      "Requirement already satisfied: pyyaml in c:\\users\\msi\\appdata\\local\\programs\\python\\python312\\lib\\site-packages (from jupyter-nbextensions-configurator>=0.4.0->jupyter_contrib_nbextensions) (6.0.1)\n",
      "Requirement already satisfied: beautifulsoup4 in c:\\users\\msi\\appdata\\local\\programs\\python\\python312\\lib\\site-packages (from nbconvert>=6.0->jupyter_contrib_nbextensions) (4.12.2)\n",
      "Requirement already satisfied: bleach!=5.0.0 in c:\\users\\msi\\appdata\\local\\programs\\python\\python312\\lib\\site-packages (from nbconvert>=6.0->jupyter_contrib_nbextensions) (6.1.0)\n",
      "Requirement already satisfied: defusedxml in c:\\users\\msi\\appdata\\local\\programs\\python\\python312\\lib\\site-packages (from nbconvert>=6.0->jupyter_contrib_nbextensions) (0.7.1)\n",
      "Requirement already satisfied: jinja2>=3.0 in c:\\users\\msi\\appdata\\local\\programs\\python\\python312\\lib\\site-packages (from nbconvert>=6.0->jupyter_contrib_nbextensions) (3.1.3)\n",
      "Requirement already satisfied: jupyterlab-pygments in c:\\users\\msi\\appdata\\local\\programs\\python\\python312\\lib\\site-packages (from nbconvert>=6.0->jupyter_contrib_nbextensions) (0.3.0)\n",
      "Requirement already satisfied: markupsafe>=2.0 in c:\\users\\msi\\appdata\\local\\programs\\python\\python312\\lib\\site-packages (from nbconvert>=6.0->jupyter_contrib_nbextensions) (2.1.3)\n",
      "Requirement already satisfied: mistune<4,>=2.0.3 in c:\\users\\msi\\appdata\\local\\programs\\python\\python312\\lib\\site-packages (from nbconvert>=6.0->jupyter_contrib_nbextensions) (3.0.2)\n",
      "Requirement already satisfied: nbclient>=0.5.0 in c:\\users\\msi\\appdata\\local\\programs\\python\\python312\\lib\\site-packages (from nbconvert>=6.0->jupyter_contrib_nbextensions) (0.9.0)\n",
      "Requirement already satisfied: nbformat>=5.7 in c:\\users\\msi\\appdata\\local\\programs\\python\\python312\\lib\\site-packages (from nbconvert>=6.0->jupyter_contrib_nbextensions) (5.9.2)\n",
      "Requirement already satisfied: packaging in c:\\users\\msi\\appdata\\local\\programs\\python\\python312\\lib\\site-packages (from nbconvert>=6.0->jupyter_contrib_nbextensions) (23.2)\n",
      "Requirement already satisfied: pandocfilters>=1.4.1 in c:\\users\\msi\\appdata\\local\\programs\\python\\python312\\lib\\site-packages (from nbconvert>=6.0->jupyter_contrib_nbextensions) (1.5.0)\n",
      "Requirement already satisfied: pygments>=2.4.1 in c:\\users\\msi\\appdata\\local\\programs\\python\\python312\\lib\\site-packages (from nbconvert>=6.0->jupyter_contrib_nbextensions) (2.17.2)\n",
      "Requirement already satisfied: tinycss2 in c:\\users\\msi\\appdata\\local\\programs\\python\\python312\\lib\\site-packages (from nbconvert>=6.0->jupyter_contrib_nbextensions) (1.2.1)\n",
      "Requirement already satisfied: platformdirs>=2.5 in c:\\users\\msi\\appdata\\local\\programs\\python\\python312\\lib\\site-packages (from jupyter-core->jupyter_contrib_nbextensions) (4.1.0)\n",
      "Requirement already satisfied: pywin32>=300 in c:\\users\\msi\\appdata\\local\\programs\\python\\python312\\lib\\site-packages (from jupyter-core->jupyter_contrib_nbextensions) (306)\n",
      "Requirement already satisfied: jupyter-server<3,>=2.4.0 in c:\\users\\msi\\appdata\\local\\programs\\python\\python312\\lib\\site-packages (from notebook>=6.0->jupyter_contrib_nbextensions) (2.12.4)\n",
      "Requirement already satisfied: jupyterlab-server<3,>=2.22.1 in c:\\users\\msi\\appdata\\local\\programs\\python\\python312\\lib\\site-packages (from notebook>=6.0->jupyter_contrib_nbextensions) (2.25.2)\n",
      "Requirement already satisfied: jupyterlab<5,>=4.0.2 in c:\\users\\msi\\appdata\\local\\programs\\python\\python312\\lib\\site-packages (from notebook>=6.0->jupyter_contrib_nbextensions) (4.0.10)\n",
      "Requirement already satisfied: notebook-shim<0.3,>=0.2 in c:\\users\\msi\\appdata\\local\\programs\\python\\python312\\lib\\site-packages (from notebook>=6.0->jupyter_contrib_nbextensions) (0.2.3)\n",
      "Requirement already satisfied: six>=1.9.0 in c:\\users\\msi\\appdata\\local\\programs\\python\\python312\\lib\\site-packages (from bleach!=5.0.0->nbconvert>=6.0->jupyter_contrib_nbextensions) (1.16.0)\n",
      "Requirement already satisfied: webencodings in c:\\users\\msi\\appdata\\local\\programs\\python\\python312\\lib\\site-packages (from bleach!=5.0.0->nbconvert>=6.0->jupyter_contrib_nbextensions) (0.5.1)\n",
      "Requirement already satisfied: anyio>=3.1.0 in c:\\users\\msi\\appdata\\local\\programs\\python\\python312\\lib\\site-packages (from jupyter-server<3,>=2.4.0->notebook>=6.0->jupyter_contrib_nbextensions) (4.2.0)\n",
      "Requirement already satisfied: argon2-cffi in c:\\users\\msi\\appdata\\local\\programs\\python\\python312\\lib\\site-packages (from jupyter-server<3,>=2.4.0->notebook>=6.0->jupyter_contrib_nbextensions) (23.1.0)\n",
      "Requirement already satisfied: jupyter-client>=7.4.4 in c:\\users\\msi\\appdata\\local\\programs\\python\\python312\\lib\\site-packages (from jupyter-server<3,>=2.4.0->notebook>=6.0->jupyter_contrib_nbextensions) (8.6.0)\n",
      "Requirement already satisfied: jupyter-events>=0.9.0 in c:\\users\\msi\\appdata\\local\\programs\\python\\python312\\lib\\site-packages (from jupyter-server<3,>=2.4.0->notebook>=6.0->jupyter_contrib_nbextensions) (0.9.0)\n",
      "Requirement already satisfied: jupyter-server-terminals in c:\\users\\msi\\appdata\\local\\programs\\python\\python312\\lib\\site-packages (from jupyter-server<3,>=2.4.0->notebook>=6.0->jupyter_contrib_nbextensions) (0.5.1)\n",
      "Requirement already satisfied: overrides in c:\\users\\msi\\appdata\\local\\programs\\python\\python312\\lib\\site-packages (from jupyter-server<3,>=2.4.0->notebook>=6.0->jupyter_contrib_nbextensions) (7.4.0)\n",
      "Requirement already satisfied: prometheus-client in c:\\users\\msi\\appdata\\local\\programs\\python\\python312\\lib\\site-packages (from jupyter-server<3,>=2.4.0->notebook>=6.0->jupyter_contrib_nbextensions) (0.19.0)\n",
      "Requirement already satisfied: pywinpty in c:\\users\\msi\\appdata\\local\\programs\\python\\python312\\lib\\site-packages (from jupyter-server<3,>=2.4.0->notebook>=6.0->jupyter_contrib_nbextensions) (2.0.12)\n",
      "Requirement already satisfied: pyzmq>=24 in c:\\users\\msi\\appdata\\local\\programs\\python\\python312\\lib\\site-packages (from jupyter-server<3,>=2.4.0->notebook>=6.0->jupyter_contrib_nbextensions) (25.1.2)\n",
      "Requirement already satisfied: send2trash>=1.8.2 in c:\\users\\msi\\appdata\\local\\programs\\python\\python312\\lib\\site-packages (from jupyter-server<3,>=2.4.0->notebook>=6.0->jupyter_contrib_nbextensions) (1.8.2)\n",
      "Requirement already satisfied: terminado>=0.8.3 in c:\\users\\msi\\appdata\\local\\programs\\python\\python312\\lib\\site-packages (from jupyter-server<3,>=2.4.0->notebook>=6.0->jupyter_contrib_nbextensions) (0.18.0)\n",
      "Requirement already satisfied: websocket-client in c:\\users\\msi\\appdata\\local\\programs\\python\\python312\\lib\\site-packages (from jupyter-server<3,>=2.4.0->notebook>=6.0->jupyter_contrib_nbextensions) (1.7.0)\n",
      "Requirement already satisfied: async-lru>=1.0.0 in c:\\users\\msi\\appdata\\local\\programs\\python\\python312\\lib\\site-packages (from jupyterlab<5,>=4.0.2->notebook>=6.0->jupyter_contrib_nbextensions) (2.0.4)\n",
      "Requirement already satisfied: ipykernel in c:\\users\\msi\\appdata\\local\\programs\\python\\python312\\lib\\site-packages (from jupyterlab<5,>=4.0.2->notebook>=6.0->jupyter_contrib_nbextensions) (6.28.0)\n",
      "Requirement already satisfied: jupyter-lsp>=2.0.0 in c:\\users\\msi\\appdata\\local\\programs\\python\\python312\\lib\\site-packages (from jupyterlab<5,>=4.0.2->notebook>=6.0->jupyter_contrib_nbextensions) (2.2.1)\n",
      "Requirement already satisfied: babel>=2.10 in c:\\users\\msi\\appdata\\local\\programs\\python\\python312\\lib\\site-packages (from jupyterlab-server<3,>=2.22.1->notebook>=6.0->jupyter_contrib_nbextensions) (2.14.0)\n",
      "Requirement already satisfied: json5>=0.9.0 in c:\\users\\msi\\appdata\\local\\programs\\python\\python312\\lib\\site-packages (from jupyterlab-server<3,>=2.22.1->notebook>=6.0->jupyter_contrib_nbextensions) (0.9.14)\n",
      "Requirement already satisfied: jsonschema>=4.18.0 in c:\\users\\msi\\appdata\\local\\programs\\python\\python312\\lib\\site-packages (from jupyterlab-server<3,>=2.22.1->notebook>=6.0->jupyter_contrib_nbextensions) (4.20.0)\n",
      "Requirement already satisfied: requests>=2.31 in c:\\users\\msi\\appdata\\local\\programs\\python\\python312\\lib\\site-packages (from jupyterlab-server<3,>=2.22.1->notebook>=6.0->jupyter_contrib_nbextensions) (2.31.0)\n",
      "Requirement already satisfied: fastjsonschema in c:\\users\\msi\\appdata\\local\\programs\\python\\python312\\lib\\site-packages (from nbformat>=5.7->nbconvert>=6.0->jupyter_contrib_nbextensions) (2.19.1)\n",
      "Requirement already satisfied: soupsieve>1.2 in c:\\users\\msi\\appdata\\local\\programs\\python\\python312\\lib\\site-packages (from beautifulsoup4->nbconvert>=6.0->jupyter_contrib_nbextensions) (2.5)\n",
      "Requirement already satisfied: idna>=2.8 in c:\\users\\msi\\appdata\\local\\programs\\python\\python312\\lib\\site-packages (from anyio>=3.1.0->jupyter-server<3,>=2.4.0->notebook>=6.0->jupyter_contrib_nbextensions) (3.6)\n",
      "Requirement already satisfied: sniffio>=1.1 in c:\\users\\msi\\appdata\\local\\programs\\python\\python312\\lib\\site-packages (from anyio>=3.1.0->jupyter-server<3,>=2.4.0->notebook>=6.0->jupyter_contrib_nbextensions) (1.3.0)\n",
      "Requirement already satisfied: attrs>=22.2.0 in c:\\users\\msi\\appdata\\local\\programs\\python\\python312\\lib\\site-packages (from jsonschema>=4.18.0->jupyterlab-server<3,>=2.22.1->notebook>=6.0->jupyter_contrib_nbextensions) (23.2.0)\n",
      "Requirement already satisfied: jsonschema-specifications>=2023.03.6 in c:\\users\\msi\\appdata\\local\\programs\\python\\python312\\lib\\site-packages (from jsonschema>=4.18.0->jupyterlab-server<3,>=2.22.1->notebook>=6.0->jupyter_contrib_nbextensions) (2023.12.1)\n",
      "Requirement already satisfied: referencing>=0.28.4 in c:\\users\\msi\\appdata\\local\\programs\\python\\python312\\lib\\site-packages (from jsonschema>=4.18.0->jupyterlab-server<3,>=2.22.1->notebook>=6.0->jupyter_contrib_nbextensions) (0.32.1)\n",
      "Requirement already satisfied: rpds-py>=0.7.1 in c:\\users\\msi\\appdata\\local\\programs\\python\\python312\\lib\\site-packages (from jsonschema>=4.18.0->jupyterlab-server<3,>=2.22.1->notebook>=6.0->jupyter_contrib_nbextensions) (0.16.2)\n",
      "Requirement already satisfied: python-dateutil>=2.8.2 in c:\\users\\msi\\appdata\\local\\programs\\python\\python312\\lib\\site-packages (from jupyter-client>=7.4.4->jupyter-server<3,>=2.4.0->notebook>=6.0->jupyter_contrib_nbextensions) (2.8.2)\n",
      "Requirement already satisfied: python-json-logger>=2.0.4 in c:\\users\\msi\\appdata\\local\\programs\\python\\python312\\lib\\site-packages (from jupyter-events>=0.9.0->jupyter-server<3,>=2.4.0->notebook>=6.0->jupyter_contrib_nbextensions) (2.0.7)\n",
      "Requirement already satisfied: rfc3339-validator in c:\\users\\msi\\appdata\\local\\programs\\python\\python312\\lib\\site-packages (from jupyter-events>=0.9.0->jupyter-server<3,>=2.4.0->notebook>=6.0->jupyter_contrib_nbextensions) (0.1.4)\n",
      "Requirement already satisfied: rfc3986-validator>=0.1.1 in c:\\users\\msi\\appdata\\local\\programs\\python\\python312\\lib\\site-packages (from jupyter-events>=0.9.0->jupyter-server<3,>=2.4.0->notebook>=6.0->jupyter_contrib_nbextensions) (0.1.1)\n",
      "Requirement already satisfied: charset-normalizer<4,>=2 in c:\\users\\msi\\appdata\\local\\programs\\python\\python312\\lib\\site-packages (from requests>=2.31->jupyterlab-server<3,>=2.22.1->notebook>=6.0->jupyter_contrib_nbextensions) (3.3.2)\n",
      "Requirement already satisfied: urllib3<3,>=1.21.1 in c:\\users\\msi\\appdata\\local\\programs\\python\\python312\\lib\\site-packages (from requests>=2.31->jupyterlab-server<3,>=2.22.1->notebook>=6.0->jupyter_contrib_nbextensions) (2.1.0)\n",
      "Requirement already satisfied: certifi>=2017.4.17 in c:\\users\\msi\\appdata\\local\\programs\\python\\python312\\lib\\site-packages (from requests>=2.31->jupyterlab-server<3,>=2.22.1->notebook>=6.0->jupyter_contrib_nbextensions) (2023.11.17)\n",
      "Requirement already satisfied: argon2-cffi-bindings in c:\\users\\msi\\appdata\\local\\programs\\python\\python312\\lib\\site-packages (from argon2-cffi->jupyter-server<3,>=2.4.0->notebook>=6.0->jupyter_contrib_nbextensions) (21.2.0)\n",
      "Requirement already satisfied: comm>=0.1.1 in c:\\users\\msi\\appdata\\local\\programs\\python\\python312\\lib\\site-packages (from ipykernel->jupyterlab<5,>=4.0.2->notebook>=6.0->jupyter_contrib_nbextensions) (0.2.1)\n",
      "Requirement already satisfied: debugpy>=1.6.5 in c:\\users\\msi\\appdata\\local\\programs\\python\\python312\\lib\\site-packages (from ipykernel->jupyterlab<5,>=4.0.2->notebook>=6.0->jupyter_contrib_nbextensions) (1.8.0)\n",
      "Requirement already satisfied: ipython>=7.23.1 in c:\\users\\msi\\appdata\\local\\programs\\python\\python312\\lib\\site-packages (from ipykernel->jupyterlab<5,>=4.0.2->notebook>=6.0->jupyter_contrib_nbextensions) (8.20.0)\n",
      "Requirement already satisfied: matplotlib-inline>=0.1 in c:\\users\\msi\\appdata\\local\\programs\\python\\python312\\lib\\site-packages (from ipykernel->jupyterlab<5,>=4.0.2->notebook>=6.0->jupyter_contrib_nbextensions) (0.1.6)\n",
      "Requirement already satisfied: nest-asyncio in c:\\users\\msi\\appdata\\local\\programs\\python\\python312\\lib\\site-packages (from ipykernel->jupyterlab<5,>=4.0.2->notebook>=6.0->jupyter_contrib_nbextensions) (1.5.8)\n",
      "Requirement already satisfied: psutil in c:\\users\\msi\\appdata\\local\\programs\\python\\python312\\lib\\site-packages (from ipykernel->jupyterlab<5,>=4.0.2->notebook>=6.0->jupyter_contrib_nbextensions) (5.9.7)\n",
      "Requirement already satisfied: decorator in c:\\users\\msi\\appdata\\local\\programs\\python\\python312\\lib\\site-packages (from ipython>=7.23.1->ipykernel->jupyterlab<5,>=4.0.2->notebook>=6.0->jupyter_contrib_nbextensions) (5.1.1)\n",
      "Requirement already satisfied: jedi>=0.16 in c:\\users\\msi\\appdata\\local\\programs\\python\\python312\\lib\\site-packages (from ipython>=7.23.1->ipykernel->jupyterlab<5,>=4.0.2->notebook>=6.0->jupyter_contrib_nbextensions) (0.19.1)\n",
      "Requirement already satisfied: prompt-toolkit<3.1.0,>=3.0.41 in c:\\users\\msi\\appdata\\local\\programs\\python\\python312\\lib\\site-packages (from ipython>=7.23.1->ipykernel->jupyterlab<5,>=4.0.2->notebook>=6.0->jupyter_contrib_nbextensions) (3.0.43)\n",
      "Requirement already satisfied: stack-data in c:\\users\\msi\\appdata\\local\\programs\\python\\python312\\lib\\site-packages (from ipython>=7.23.1->ipykernel->jupyterlab<5,>=4.0.2->notebook>=6.0->jupyter_contrib_nbextensions) (0.6.3)\n",
      "Requirement already satisfied: colorama in c:\\users\\msi\\appdata\\local\\programs\\python\\python312\\lib\\site-packages (from ipython>=7.23.1->ipykernel->jupyterlab<5,>=4.0.2->notebook>=6.0->jupyter_contrib_nbextensions) (0.4.6)\n",
      "Requirement already satisfied: fqdn in c:\\users\\msi\\appdata\\local\\programs\\python\\python312\\lib\\site-packages (from jsonschema[format-nongpl]>=4.18.0->jupyter-events>=0.9.0->jupyter-server<3,>=2.4.0->notebook>=6.0->jupyter_contrib_nbextensions) (1.5.1)\n",
      "Requirement already satisfied: isoduration in c:\\users\\msi\\appdata\\local\\programs\\python\\python312\\lib\\site-packages (from jsonschema[format-nongpl]>=4.18.0->jupyter-events>=0.9.0->jupyter-server<3,>=2.4.0->notebook>=6.0->jupyter_contrib_nbextensions) (20.11.0)\n",
      "Requirement already satisfied: jsonpointer>1.13 in c:\\users\\msi\\appdata\\local\\programs\\python\\python312\\lib\\site-packages (from jsonschema[format-nongpl]>=4.18.0->jupyter-events>=0.9.0->jupyter-server<3,>=2.4.0->notebook>=6.0->jupyter_contrib_nbextensions) (2.4)\n",
      "Requirement already satisfied: uri-template in c:\\users\\msi\\appdata\\local\\programs\\python\\python312\\lib\\site-packages (from jsonschema[format-nongpl]>=4.18.0->jupyter-events>=0.9.0->jupyter-server<3,>=2.4.0->notebook>=6.0->jupyter_contrib_nbextensions) (1.3.0)\n",
      "Requirement already satisfied: webcolors>=1.11 in c:\\users\\msi\\appdata\\local\\programs\\python\\python312\\lib\\site-packages (from jsonschema[format-nongpl]>=4.18.0->jupyter-events>=0.9.0->jupyter-server<3,>=2.4.0->notebook>=6.0->jupyter_contrib_nbextensions) (1.13)\n",
      "Requirement already satisfied: cffi>=1.0.1 in c:\\users\\msi\\appdata\\local\\programs\\python\\python312\\lib\\site-packages (from argon2-cffi-bindings->argon2-cffi->jupyter-server<3,>=2.4.0->notebook>=6.0->jupyter_contrib_nbextensions) (1.16.0)\n",
      "Requirement already satisfied: pycparser in c:\\users\\msi\\appdata\\local\\programs\\python\\python312\\lib\\site-packages (from cffi>=1.0.1->argon2-cffi-bindings->argon2-cffi->jupyter-server<3,>=2.4.0->notebook>=6.0->jupyter_contrib_nbextensions) (2.21)\n",
      "Requirement already satisfied: parso<0.9.0,>=0.8.3 in c:\\users\\msi\\appdata\\local\\programs\\python\\python312\\lib\\site-packages (from jedi>=0.16->ipython>=7.23.1->ipykernel->jupyterlab<5,>=4.0.2->notebook>=6.0->jupyter_contrib_nbextensions) (0.8.3)\n",
      "Requirement already satisfied: wcwidth in c:\\users\\msi\\appdata\\local\\programs\\python\\python312\\lib\\site-packages (from prompt-toolkit<3.1.0,>=3.0.41->ipython>=7.23.1->ipykernel->jupyterlab<5,>=4.0.2->notebook>=6.0->jupyter_contrib_nbextensions) (0.2.13)\n",
      "Requirement already satisfied: arrow>=0.15.0 in c:\\users\\msi\\appdata\\local\\programs\\python\\python312\\lib\\site-packages (from isoduration->jsonschema[format-nongpl]>=4.18.0->jupyter-events>=0.9.0->jupyter-server<3,>=2.4.0->notebook>=6.0->jupyter_contrib_nbextensions) (1.3.0)\n",
      "Requirement already satisfied: executing>=1.2.0 in c:\\users\\msi\\appdata\\local\\programs\\python\\python312\\lib\\site-packages (from stack-data->ipython>=7.23.1->ipykernel->jupyterlab<5,>=4.0.2->notebook>=6.0->jupyter_contrib_nbextensions) (2.0.1)\n",
      "Requirement already satisfied: asttokens>=2.1.0 in c:\\users\\msi\\appdata\\local\\programs\\python\\python312\\lib\\site-packages (from stack-data->ipython>=7.23.1->ipykernel->jupyterlab<5,>=4.0.2->notebook>=6.0->jupyter_contrib_nbextensions) (2.4.1)\n",
      "Requirement already satisfied: pure-eval in c:\\users\\msi\\appdata\\local\\programs\\python\\python312\\lib\\site-packages (from stack-data->ipython>=7.23.1->ipykernel->jupyterlab<5,>=4.0.2->notebook>=6.0->jupyter_contrib_nbextensions) (0.2.2)\n",
      "Requirement already satisfied: types-python-dateutil>=2.8.10 in c:\\users\\msi\\appdata\\local\\programs\\python\\python312\\lib\\site-packages (from arrow>=0.15.0->isoduration->jsonschema[format-nongpl]>=4.18.0->jupyter-events>=0.9.0->jupyter-server<3,>=2.4.0->notebook>=6.0->jupyter_contrib_nbextensions) (2.8.19.20240106)\n"
     ]
    },
    {
     "name": "stderr",
     "output_type": "stream",
     "text": [
      "\n",
      "[notice] A new release of pip is available: 23.3.2 -> 24.0\n",
      "[notice] To update, run: python.exe -m pip install --upgrade pip\n"
     ]
    }
   ],
   "source": [
    "!pip install jupyter_contrib_nbextensions"
   ]
  },
  {
   "cell_type": "code",
   "execution_count": null,
   "id": "2818d9bc-071d-49b7-8c87-c447778dd0ce",
   "metadata": {},
   "outputs": [],
   "source": []
  }
 ],
 "metadata": {
  "kernelspec": {
   "display_name": "Python 3 (ipykernel)",
   "language": "python",
   "name": "python3"
  },
  "language_info": {
   "codemirror_mode": {
    "name": "ipython",
    "version": 3
   },
   "file_extension": ".py",
   "mimetype": "text/x-python",
   "name": "python",
   "nbconvert_exporter": "python",
   "pygments_lexer": "ipython3",
   "version": "3.12.1"
  }
 },
 "nbformat": 4,
 "nbformat_minor": 5
}
